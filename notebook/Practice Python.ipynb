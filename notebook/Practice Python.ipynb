{
 "cells": [
  {
   "cell_type": "code",
   "execution_count": 9,
   "id": "f166b998-9469-4d4a-ac97-3d7bb21533b0",
   "metadata": {},
   "outputs": [],
   "source": [
    "import sys"
   ]
  },
  {
   "cell_type": "markdown",
   "id": "9e3adfd8-3c81-46b6-a1de-8fee85ef8701",
   "metadata": {},
   "source": [
    "---\n",
    "### Data structures in Python"
   ]
  },
  {
   "cell_type": "markdown",
   "id": "8b6f3e4e-7eaf-4fee-a2ff-536a9045516c",
   "metadata": {},
   "source": [
    "---\n",
    "\n",
    "#### List"
   ]
  },
  {
   "cell_type": "markdown",
   "id": "634cca6c-e1ea-45d1-94e0-20f2ac68ff49",
   "metadata": {},
   "source": [
    "- Lists are ordered collections of items.\n",
    "- They are mutable, meaning their contents can be changed after creation.\n",
    "- Lists can contain heterogeneous data types and objects. For instance, integers, strings, and even functions can be stored within the same list."
   ]
  },
  {
   "cell_type": "markdown",
   "id": "3ccdd288-002c-4fba-9134-fd6de87e4260",
   "metadata": {},
   "source": [
    "---\n",
    "\n",
    "**Memory management in Lists**\n",
    "- Lists in Python are dynamic arrays.\n",
    "- Python allocates extra space for lists to allow them to grow without resizing every time.\n",
    "- Overhead includes a dynamic array structure with extra capacity."
   ]
  },
  {
   "cell_type": "markdown",
   "id": "1746af1a-af18-452c-bcc9-c79bee7ed40a",
   "metadata": {},
   "source": [
    "---\n",
    "\n",
    "**Stack and heap usage for Lists**\n",
    "\n",
    "- Lists are stored in the _heap_ because their size can change dynamically. The list object contains a pointer to a contiguous block of memory.\n",
    "- The variable _lst_ is stored on the stack and points to the list object on the heap."
   ]
  },
  {
   "cell_type": "code",
   "execution_count": 5,
   "id": "121ae14c-c723-4ed7-9af0-aeb972f038c6",
   "metadata": {},
   "outputs": [
    {
     "name": "stdout",
     "output_type": "stream",
     "text": [
      "5\n"
     ]
    }
   ],
   "source": [
    "lst = [1, 2, 3, 4, 5]\n",
    "print(lst[-1])"
   ]
  },
  {
   "cell_type": "code",
   "execution_count": 6,
   "id": "04b7a449-a098-4ad7-9741-10694e07be9d",
   "metadata": {},
   "outputs": [
    {
     "name": "stdout",
     "output_type": "stream",
     "text": [
      "[10]\n"
     ]
    }
   ],
   "source": [
    "lst[2] = 10\n",
    "print(lst[2:3])"
   ]
  },
  {
   "cell_type": "code",
   "execution_count": 7,
   "id": "09f38bed-ea8f-4e21-b761-c5534be545f6",
   "metadata": {},
   "outputs": [
    {
     "name": "stdout",
     "output_type": "stream",
     "text": [
      "[1, 2, 10, 4, 5, 6]\n"
     ]
    }
   ],
   "source": [
    "lst.append(6)\n",
    "print(lst)"
   ]
  },
  {
   "cell_type": "code",
   "execution_count": 8,
   "id": "35428fbb-f741-49fd-8f15-b0e45655f186",
   "metadata": {},
   "outputs": [
    {
     "name": "stdout",
     "output_type": "stream",
     "text": [
      "[1, 2, 10, 5, 6]\n"
     ]
    }
   ],
   "source": [
    "lst.remove(4)\n",
    "print(lst)"
   ]
  },
  {
   "cell_type": "code",
   "execution_count": 47,
   "id": "eecc7cbd-2226-4d0c-9363-eac821bcfaf9",
   "metadata": {},
   "outputs": [
    {
     "name": "stdout",
     "output_type": "stream",
     "text": [
      "Size of an empty list: 56\n"
     ]
    }
   ],
   "source": [
    "empty_lst = []\n",
    "print(f\"Size of an empty list: {sys.getsizeof(empty_lst)}\")"
   ]
  },
  {
   "cell_type": "code",
   "execution_count": 48,
   "id": "c4599bc5-d623-477a-8348-740595773e98",
   "metadata": {
    "scrolled": true
   },
   "outputs": [
    {
     "name": "stdout",
     "output_type": "stream",
     "text": [
      "Size of a non-empty list: 104\n"
     ]
    }
   ],
   "source": [
    "print(f\"Size of a non-empty list: {sys.getsizeof(lst)}\")"
   ]
  },
  {
   "cell_type": "code",
   "execution_count": 225,
   "id": "2d0295c6-3036-4ae8-971d-1a2baef22e80",
   "metadata": {},
   "outputs": [
    {
     "name": "stdout",
     "output_type": "stream",
     "text": [
      "[1, 2, 3, 4]\n",
      "[1, 2, 3, 4]\n"
     ]
    }
   ],
   "source": [
    "a = [1, 2, 3]\n",
    "b = a\n",
    "b.append(4)\n",
    "print(a)\n",
    "print(b)"
   ]
  },
  {
   "cell_type": "code",
   "execution_count": 226,
   "id": "ec5eb5ef-6501-44e8-8240-3fa265adfd1b",
   "metadata": {},
   "outputs": [
    {
     "name": "stdout",
     "output_type": "stream",
     "text": [
      "[1, 2, 3]\n",
      "[1, 2, 3, 4]\n"
     ]
    }
   ],
   "source": [
    "a = [1, 2, 3]\n",
    "b = a[:]\n",
    "b.append(4)\n",
    "print(a)\n",
    "print(b)"
   ]
  },
  {
   "cell_type": "markdown",
   "id": "0e032368-0bbd-4486-97c4-504ed2b66d0e",
   "metadata": {},
   "source": [
    "---\n",
    "\n",
    "#### Tuple"
   ]
  },
  {
   "cell_type": "markdown",
   "id": "018d16dd-2145-4e14-aae3-3195a465654c",
   "metadata": {},
   "source": [
    "- Tuples are ordered collections of items.\n",
    "- They are immutable, meaning their contents cannot be changed after creation."
   ]
  },
  {
   "cell_type": "markdown",
   "id": "2c86669e-6b96-4fc5-8891-d8018ff2b6da",
   "metadata": {},
   "source": [
    "---\n",
    "\n",
    "**Memory management in Tuples**\n",
    "\n",
    "- Tuples are more memory-efficient than lists.\n",
    "- Since they are immutable, Python can optimize their storage and reuse them.\n",
    "- Overhead is lower than lists due to immutability."
   ]
  },
  {
   "cell_type": "markdown",
   "id": "56b8f5af-de00-4d0e-9c55-abac83469850",
   "metadata": {},
   "source": [
    "---\n",
    "\n",
    "**Stack and heap usage for Tuples**\n",
    "\n",
    "- Tuples are stored in the heap. Python can optimize memory usage by reusing existing tuples.\n",
    "- The variable _tpl_ is stored on the stack and points to the tuple object on the heap."
   ]
  },
  {
   "cell_type": "code",
   "execution_count": 36,
   "id": "f6340f9b-2634-40c0-a4f4-67c07836fe81",
   "metadata": {},
   "outputs": [
    {
     "name": "stdout",
     "output_type": "stream",
     "text": [
      "4\n"
     ]
    }
   ],
   "source": [
    "tpl = (5, 6, 2, 4, 5, 1)\n",
    "print(tpl[-3])"
   ]
  },
  {
   "cell_type": "code",
   "execution_count": 37,
   "id": "1da0b076-efc6-46b9-9f3b-a28876b59fb4",
   "metadata": {},
   "outputs": [
    {
     "data": {
      "text/plain": [
       "2"
      ]
     },
     "execution_count": 37,
     "metadata": {},
     "output_type": "execute_result"
    }
   ],
   "source": [
    "tpl.count(5)"
   ]
  },
  {
   "cell_type": "code",
   "execution_count": 44,
   "id": "e010bc84-97e7-4646-9a21-116f2dc38f03",
   "metadata": {},
   "outputs": [
    {
     "data": {
      "text/plain": [
       "3"
      ]
     },
     "execution_count": 44,
     "metadata": {},
     "output_type": "execute_result"
    }
   ],
   "source": [
    "tpl.index(4)"
   ]
  },
  {
   "cell_type": "code",
   "execution_count": 49,
   "id": "d5453923-b02e-4c7b-aa46-1deffaba9fdb",
   "metadata": {},
   "outputs": [
    {
     "name": "stdout",
     "output_type": "stream",
     "text": [
      "Size of an empty tuple: 40\n"
     ]
    }
   ],
   "source": [
    "empty_tpl = ()\n",
    "print(f\"Size of an empty tuple: {sys.getsizeof(empty_tpl)}\")"
   ]
  },
  {
   "cell_type": "code",
   "execution_count": 50,
   "id": "d620864b-4a00-4912-b127-08a7a49ab4f8",
   "metadata": {
    "scrolled": true
   },
   "outputs": [
    {
     "name": "stdout",
     "output_type": "stream",
     "text": [
      "Size of a non-empty tuple: 88\n"
     ]
    }
   ],
   "source": [
    "print(f\"Size of a non-empty tuple: {sys.getsizeof(tpl)}\")"
   ]
  },
  {
   "cell_type": "markdown",
   "id": "bf177408-70e2-4ed5-b138-8adb921f0caf",
   "metadata": {},
   "source": [
    "---\n",
    "\n",
    "#### Dictionary"
   ]
  },
  {
   "cell_type": "markdown",
   "id": "eb290aa9-69ee-4bd6-a54b-a7eed3ee4a76",
   "metadata": {},
   "source": [
    "- Dictionaries are collections of key-value pairs.\n",
    "- They are mutable and unordered."
   ]
  },
  {
   "cell_type": "markdown",
   "id": "d0060606-cacd-4a59-b2e0-2bb20cfa055c",
   "metadata": {},
   "source": [
    "---\n",
    "\n",
    "**Memory management in Dictionaries**\n",
    "\n",
    "- Dictionaries use a hash table for storage, allowing fast access to values.\n",
    "- Overhead includes the hash table structure and handling of hash collisions."
   ]
  },
  {
   "cell_type": "markdown",
   "id": "b2deb33e-13b6-4a18-ada4-4039a438a988",
   "metadata": {},
   "source": [
    "---\n",
    "\n",
    "**Stack and heap usage for Dictionaries**\n",
    "\n",
    "- Dictionaries are stored in the heap because they can grow and shrink dynamically.\n",
    "-  The variable _dct_ is stored on the stack and points to the dictionary object on the heap."
   ]
  },
  {
   "cell_type": "code",
   "execution_count": 53,
   "id": "f3bac62d-35a5-4197-9b19-964211e51f31",
   "metadata": {},
   "outputs": [
    {
     "name": "stdout",
     "output_type": "stream",
     "text": [
      "{'a': 1, 'b': 4, 'd': 9}\n"
     ]
    }
   ],
   "source": [
    "dct = {'a': 1, 'b': 4, 'd': 9}\n",
    "print(dct)"
   ]
  },
  {
   "cell_type": "code",
   "execution_count": 55,
   "id": "3f8ff035-e6fc-48a5-bcf4-f32ff2e5f248",
   "metadata": {},
   "outputs": [
    {
     "name": "stdout",
     "output_type": "stream",
     "text": [
      "9\n"
     ]
    }
   ],
   "source": [
    "print(dct['d'])"
   ]
  },
  {
   "cell_type": "code",
   "execution_count": 60,
   "id": "f5f4d2c0-b771-4dbe-a2de-87c364672a6e",
   "metadata": {},
   "outputs": [
    {
     "name": "stdout",
     "output_type": "stream",
     "text": [
      "dict_keys(['a', 'b', 'd'])\n"
     ]
    }
   ],
   "source": [
    "print(dct.keys())"
   ]
  },
  {
   "cell_type": "code",
   "execution_count": 62,
   "id": "f77d94a7-ea1c-4611-a486-6cc23fb6fc2d",
   "metadata": {},
   "outputs": [
    {
     "name": "stdout",
     "output_type": "stream",
     "text": [
      "dict_values([1, 4, 9])\n"
     ]
    }
   ],
   "source": [
    "print(dct.values())"
   ]
  },
  {
   "cell_type": "code",
   "execution_count": 63,
   "id": "5c9a6550-3056-42b5-a23d-082d03764656",
   "metadata": {},
   "outputs": [
    {
     "name": "stdout",
     "output_type": "stream",
     "text": [
      "Size of an empty dict: 64\n"
     ]
    }
   ],
   "source": [
    "empty_dct = dict()\n",
    "print(f\"Size of an empty dict: {sys.getsizeof(empty_dct)}\")"
   ]
  },
  {
   "cell_type": "code",
   "execution_count": 64,
   "id": "256a0877-01e3-4a15-ac4e-469ba406be65",
   "metadata": {},
   "outputs": [
    {
     "name": "stdout",
     "output_type": "stream",
     "text": [
      "Size of a non-empty dict: 184\n"
     ]
    }
   ],
   "source": [
    "print(f\"Size of a non-empty dict: {sys.getsizeof(dct)}\")"
   ]
  },
  {
   "cell_type": "markdown",
   "id": "340df91a-10c1-4320-b22d-6690f2ff7f08",
   "metadata": {},
   "source": [
    "---\n",
    "\n",
    "### More on hash maps\n",
    "\n",
    "- A hash map (also known as a hash table) is a data structure that allows Python to store key-value pairs and provides fast access (on average O(1) time complexity for insert, delete, and lookup)."
   ]
  },
  {
   "cell_type": "code",
   "execution_count": 157,
   "id": "75bdd213-3b79-4373-ac12-d7f77fadccd9",
   "metadata": {},
   "outputs": [
    {
     "data": {
      "text/plain": [
       "6395134037612995272"
      ]
     },
     "execution_count": 157,
     "metadata": {},
     "output_type": "execute_result"
    }
   ],
   "source": [
    "hash(\"banana\")"
   ]
  },
  {
   "cell_type": "code",
   "execution_count": 156,
   "id": "63063a4c-adde-4e7d-8147-c7c0078b65d1",
   "metadata": {},
   "outputs": [
    {
     "data": {
      "text/plain": [
       "8"
      ]
     },
     "execution_count": 156,
     "metadata": {},
     "output_type": "execute_result"
    }
   ],
   "source": [
    "hash(8)"
   ]
  },
  {
   "cell_type": "code",
   "execution_count": 160,
   "id": "eb0e368c-775e-4dd4-bf86-a108fc451dbf",
   "metadata": {},
   "outputs": [
    {
     "name": "stdout",
     "output_type": "stream",
     "text": [
      "(5, 6, 8, 9, 2)\n"
     ]
    }
   ],
   "source": [
    "tpl3 = (5, 6, 8, 9, 2)\n",
    "print(tpl3)"
   ]
  },
  {
   "cell_type": "code",
   "execution_count": 161,
   "id": "dc8a7160-7a48-4ff4-8df1-1d26968e7b9c",
   "metadata": {},
   "outputs": [
    {
     "data": {
      "text/plain": [
       "-991401673030388869"
      ]
     },
     "execution_count": 161,
     "metadata": {},
     "output_type": "execute_result"
    }
   ],
   "source": [
    "hash(tpl3)"
   ]
  },
  {
   "cell_type": "code",
   "execution_count": 193,
   "id": "4398abf9-1b21-48fa-a440-1f12b2d11a39",
   "metadata": {},
   "outputs": [
    {
     "name": "stdout",
     "output_type": "stream",
     "text": [
      "name = kaaviya, args = (), kwargs = {'age': 26}\n",
      "name = kaaviya, args = (26,), kwargs = {}\n",
      "False\n"
     ]
    }
   ],
   "source": [
    "class Person:\n",
    "    def __init__(self, name, *args, **kwargs):\n",
    "        self.name = name\n",
    "        self.args = args\n",
    "        self.kwargs = kwargs\n",
    "    def __hash__(self):\n",
    "        return hash(self.name)\n",
    "    def __eq__(self, other):\n",
    "        return self.name == other.name and self.args == other.args and self.kwargs == other.kwargs\n",
    "    def __str__(self):\n",
    "        return f\"name = {self.name}, args = {self.args}, kwargs = {self.kwargs}\"\n",
    "\n",
    "p1 = Person(\"kaaviya\", age=26)\n",
    "print(p1)\n",
    "p2 = Person(\"kaaviya\", 26)\n",
    "print(p2)\n",
    "print(p1 == p2)"
   ]
  },
  {
   "cell_type": "markdown",
   "id": "07bcfd8d-cb58-44ec-9cfc-d82b79819f74",
   "metadata": {},
   "source": [
    "---\n",
    "\n",
    "#### Set"
   ]
  },
  {
   "cell_type": "markdown",
   "id": "c52c1432-b396-4191-84c1-ab9269664f97",
   "metadata": {},
   "source": [
    "- Sets are unordered collections of unique items.\n",
    "- They are mutable.\n",
    "\n"
   ]
  },
  {
   "cell_type": "markdown",
   "id": "7a8ec039-41f6-43e1-aa9b-b03702061cd4",
   "metadata": {},
   "source": [
    "---\n",
    "\n",
    "**Memory management in Sets**\n",
    "\n",
    "- Sets use a hash table for storage, similar to dictionaries.\n",
    "- Overhead includes the hash table structure and handling of hash collisions."
   ]
  },
  {
   "cell_type": "markdown",
   "id": "be3f4694-b479-4b67-b3c1-49386ce8cd8c",
   "metadata": {},
   "source": [
    "---\n",
    "\n",
    "**Stack and heap usage for Sets**\n",
    "\n",
    "- Sets are stored in the heap because their size can change dynamically.\n",
    "- The variable _st_ is stored on the stack and points to the set object on the heap."
   ]
  },
  {
   "cell_type": "code",
   "execution_count": 71,
   "id": "fe9bb061-e978-4f36-baf8-e5a36b46abe9",
   "metadata": {},
   "outputs": [
    {
     "name": "stdout",
     "output_type": "stream",
     "text": [
      "{1, 3, 6, 7, 8}\n"
     ]
    }
   ],
   "source": [
    "st = {6, 7, 8, 3, 3, 1, 8}\n",
    "print(st)"
   ]
  },
  {
   "cell_type": "code",
   "execution_count": 73,
   "id": "53ef4ece-6682-4f34-87f2-9c102c1b45db",
   "metadata": {},
   "outputs": [
    {
     "name": "stdout",
     "output_type": "stream",
     "text": [
      "{1, 3, 6, 7, 8}\n"
     ]
    }
   ],
   "source": [
    "st.add(6)\n",
    "print(st)"
   ]
  },
  {
   "cell_type": "code",
   "execution_count": 74,
   "id": "e0d0487d-39c9-4c31-bc77-de2d03cb322e",
   "metadata": {},
   "outputs": [
    {
     "name": "stdout",
     "output_type": "stream",
     "text": [
      "{1, 3, 5, 6, 7, 8}\n"
     ]
    }
   ],
   "source": [
    "st.add(5)\n",
    "print(st)"
   ]
  },
  {
   "cell_type": "code",
   "execution_count": 77,
   "id": "9ef28852-217f-46ff-bc3d-ac5ac0cc7b36",
   "metadata": {},
   "outputs": [
    {
     "name": "stdout",
     "output_type": "stream",
     "text": [
      "{2, 3, 4, 5, 8, 10}\n"
     ]
    }
   ],
   "source": [
    "another_st = {5, 2, 8, 10, 4, 3}\n",
    "print(another_st)"
   ]
  },
  {
   "cell_type": "code",
   "execution_count": 79,
   "id": "bc15da61-b6ef-49de-aa31-c597331aecf2",
   "metadata": {},
   "outputs": [
    {
     "name": "stdout",
     "output_type": "stream",
     "text": [
      "{8, 3, 5}\n"
     ]
    }
   ],
   "source": [
    "print(st & another_st)"
   ]
  },
  {
   "cell_type": "code",
   "execution_count": 80,
   "id": "cfa0381e-fefc-4480-9df6-d4e3a30a302e",
   "metadata": {},
   "outputs": [
    {
     "name": "stdout",
     "output_type": "stream",
     "text": [
      "{1, 2, 3, 4, 5, 6, 7, 8, 10}\n"
     ]
    }
   ],
   "source": [
    "print(st | another_st)"
   ]
  },
  {
   "cell_type": "code",
   "execution_count": 81,
   "id": "8223a8a3-74c9-4e1a-ac82-581d46c29062",
   "metadata": {},
   "outputs": [
    {
     "name": "stdout",
     "output_type": "stream",
     "text": [
      "Size of an empty set: 216\n"
     ]
    }
   ],
   "source": [
    "empty_st = set()\n",
    "print(f\"Size of an empty set: {sys.getsizeof(empty_st)}\")"
   ]
  },
  {
   "cell_type": "code",
   "execution_count": 82,
   "id": "bc3b9f6a-b77b-4cb9-b20c-cd8458994608",
   "metadata": {},
   "outputs": [
    {
     "name": "stdout",
     "output_type": "stream",
     "text": [
      "Size of a non-empty set: 472\n"
     ]
    }
   ],
   "source": [
    "print(f\"Size of a non-empty set: {sys.getsizeof(st)}\")"
   ]
  },
  {
   "cell_type": "markdown",
   "id": "8e6cf05b-b9a9-4101-8269-72d5f18d01af",
   "metadata": {},
   "source": [
    "---\n",
    "\n",
    "### Flow control"
   ]
  },
  {
   "cell_type": "markdown",
   "id": "265e0f4a-6e9d-4963-a38f-5256050b2a62",
   "metadata": {},
   "source": [
    "#### Default arguments\n",
    "\n",
    "- The default values are evaluated at the point of function definition in the defining scope"
   ]
  },
  {
   "cell_type": "code",
   "execution_count": 84,
   "id": "025477e9-7811-44e4-b5dc-3e4e7ed0b91d",
   "metadata": {},
   "outputs": [
    {
     "name": "stdout",
     "output_type": "stream",
     "text": [
      "5\n",
      "5\n"
     ]
    }
   ],
   "source": [
    "i = 5\n",
    "\n",
    "def f(arg=i):\n",
    "    print(arg)\n",
    "\n",
    "i = 6\n",
    "f()\n",
    "f()"
   ]
  },
  {
   "cell_type": "markdown",
   "id": "b462cd7e-9c7b-4a01-9279-6c53af7bd5f3",
   "metadata": {},
   "source": [
    "- The default value is evaluated only once. This makes a difference when the default is a mutable object such as a list, dictionary, or instances of most classes. For example, the following function accumulates the arguments passed to it on subsequent calls:"
   ]
  },
  {
   "cell_type": "code",
   "execution_count": 87,
   "id": "9116df1b-ca69-49c2-8824-da4bbb7a0bc3",
   "metadata": {},
   "outputs": [
    {
     "name": "stdout",
     "output_type": "stream",
     "text": [
      "[3]\n",
      "[3, 10]\n",
      "[3, 10, 6]\n"
     ]
    }
   ],
   "source": [
    "def f(a, l=[]):\n",
    "    l.append(a)\n",
    "    return l\n",
    "\n",
    "print(f(3))\n",
    "print(f(10))\n",
    "print(f(6))"
   ]
  },
  {
   "cell_type": "code",
   "execution_count": 137,
   "id": "267165a8-b18f-4a72-b56c-e96ecda05393",
   "metadata": {},
   "outputs": [
    {
     "name": "stdout",
     "output_type": "stream",
     "text": [
      "{3}\n",
      "{10, 3}\n",
      "{10, 3, 6}\n",
      "{10, 3, 6}\n",
      "{8, 7}\n"
     ]
    }
   ],
   "source": [
    "def f(a, *, l=set()):\n",
    "    l.add(a)\n",
    "    return l\n",
    "\n",
    "print(f(3))\n",
    "print(f(10))\n",
    "print(f(6))\n",
    "print(f(3))\n",
    "print(f(8, l={7}))"
   ]
  },
  {
   "cell_type": "markdown",
   "id": "356acfe1-ea64-477b-ae94-5c0be3625a29",
   "metadata": {},
   "source": [
    "---\n",
    "\n",
    "#### Keyword arguments\n",
    "\n",
    "- In a function call, keyword arguments must follow positional arguments. "
   ]
  },
  {
   "cell_type": "code",
   "execution_count": 113,
   "id": "084f6d04-74df-40b1-a773-e5cb252835de",
   "metadata": {},
   "outputs": [
    {
     "name": "stdout",
     "output_type": "stream",
     "text": [
      "['kaaviya', 26, (755, 890)]\n",
      "{}\n",
      "---end---\n",
      "[]\n",
      "{'name': 'kaaviya', 'age': 26, 'nums': (755, 890)}\n",
      "---end---\n"
     ]
    }
   ],
   "source": [
    "def details(*args, **kwargs):\n",
    "    print([arg for arg in args])\n",
    "    print(kwargs)\n",
    "    print(\"---end---\")\n",
    "\n",
    "details(\"kaaviya\", 26, (755, 890))\n",
    "details(name=\"kaaviya\", age=26, nums=(755, 890))"
   ]
  },
  {
   "cell_type": "code",
   "execution_count": 127,
   "id": "64359273-f943-4191-b743-3f1b7fcd53e9",
   "metadata": {},
   "outputs": [
    {
     "name": "stdout",
     "output_type": "stream",
     "text": [
      "27\n",
      "---end---\n",
      "91\n",
      "---end---\n"
     ]
    }
   ],
   "source": [
    "def details2(name, /, *args, **kwargs):\n",
    "    if \"age\" in kwargs:\n",
    "        kwargs[\"age\"] += 1\n",
    "        print(kwargs[\"age\"])\n",
    "    print(\"---end---\")\n",
    "\n",
    "details2(\"kaaviya\", age=26, nums=(755, 890))\n",
    "details2(\"kaaviya\", age=90, nums=(755, 890))"
   ]
  },
  {
   "cell_type": "markdown",
   "id": "3fad2526-39e9-4b9b-80d5-b8a603f78fc7",
   "metadata": {},
   "source": [
    "- For an API, use positional-only to prevent breaking API changes if the parameter’s name is modified in the future."
   ]
  },
  {
   "cell_type": "markdown",
   "id": "e98cd622-91f4-4350-a1ae-8617edfb035a",
   "metadata": {},
   "source": [
    "---\n",
    "#### Lambda expressions\n",
    "\n",
    "What happens in the example below?\n",
    "\n",
    "- Define lambda (anonymous function).\n",
    "- Pass lambda + iterable to map() which creates lazy iterator.\n",
    "- list() pulls each item from the map object and applies the lambda.\n",
    "- Returns a new list with the transformed values."
   ]
  },
  {
   "cell_type": "code",
   "execution_count": 153,
   "id": "523c7645-a70e-461e-88a3-eab9455b4b92",
   "metadata": {},
   "outputs": [
    {
     "name": "stdout",
     "output_type": "stream",
     "text": [
      "[1, 196, 25, 64]\n"
     ]
    }
   ],
   "source": [
    "lst = [1, 14, 5, 8]\n",
    "print(list(map(lambda x: x ** 2, lst)))"
   ]
  },
  {
   "cell_type": "markdown",
   "id": "84a02862-48f0-4f3d-b230-7a447cde526c",
   "metadata": {},
   "source": [
    "---\n",
    "\n",
    "### How can I implement my own Hash map data structure?"
   ]
  },
  {
   "cell_type": "code",
   "execution_count": 239,
   "id": "25f0717a-57e3-4178-a3c2-57d5de5eaddc",
   "metadata": {},
   "outputs": [
    {
     "name": "stdout",
     "output_type": "stream",
     "text": [
      "contents of FastDict: [(-9733016434445417702, 'india', 'delhi'), (10518460262742604237, 'america', 'washington'), (-6700626019112612619, 'india', 'ok')]\n"
     ]
    }
   ],
   "source": [
    "class UniqueDict():\n",
    "\n",
    "    def __init__(self):\n",
    "        self._data_list = []\n",
    "\n",
    "    def insert(self, key, value):\n",
    "        if self._is_present(key, value):\n",
    "            print(f\"error: \\\"{key}: {value}\\\" cannot be inserted, it is already present.\")\n",
    "        else:\n",
    "            self._data_list.append((hash(key) + hash(value), key, value))\n",
    "\n",
    "    def _is_present(self, key, value):\n",
    "        return any(self.__full_hash(k, v) == self.__full_hash(key, value) for _, k, v in self._data_list)\n",
    "\n",
    "    def __full_hash(self, key, value):\n",
    "        return hash(key) + hash(value)\n",
    "\n",
    "    def __str__(self):\n",
    "        return f\"contents of FastDict: {self._data_list}\"\n",
    "\n",
    "ud = UniqueDict()\n",
    "ud.insert(\"india\", \"delhi\")\n",
    "ud.insert(\"america\", \"washington\")\n",
    "ud.insert(\"india\", \"ok\")\n",
    "print(ud)"
   ]
  },
  {
   "cell_type": "code",
   "execution_count": 230,
   "id": "4564a0e2-524d-4f69-a16c-ebed078e9198",
   "metadata": {},
   "outputs": [
    {
     "data": {
      "text/plain": [
       "generator"
      ]
     },
     "execution_count": 230,
     "metadata": {},
     "output_type": "execute_result"
    }
   ],
   "source": [
    "type(i*i for i in range(10))"
   ]
  },
  {
   "cell_type": "code",
   "execution_count": 262,
   "id": "47f51cc9-6a06-4dcb-bf17-98d2b5b080ed",
   "metadata": {
    "scrolled": true
   },
   "outputs": [],
   "source": [
    "filepath = \"hello.txt\"\n",
    "with open(filepath, \"w\") as f:\n",
    "    for i in range(1_000):\n",
    "        f.write(f\"This is line number {i}\\n\")\n",
    "\n",
    "def read_file1(filepath):\n",
    "    with open(filepath) as f:\n",
    "        for line in f:\n",
    "            yield line.strip()\n",
    "\n",
    "def read_file2(filepath):\n",
    "    with open(filepath) as f:\n",
    "        return [line.strip() for line in f.readlines()]\n",
    "        \n",
    "file1 = read_file1(filepath)\n",
    "file2 = read_file2(filepath)"
   ]
  },
  {
   "cell_type": "code",
   "execution_count": 252,
   "id": "c2fc709c-5305-4a3b-99a6-f3725105ca7d",
   "metadata": {},
   "outputs": [
    {
     "name": "stdout",
     "output_type": "stream",
     "text": [
      "The memory_profiler extension is already loaded. To reload it, use:\n",
      "  %reload_ext memory_profiler\n"
     ]
    }
   ],
   "source": [
    "%load_ext memory_profiler"
   ]
  },
  {
   "cell_type": "code",
   "execution_count": 263,
   "id": "aaac970e-3969-4cb3-abb2-52cb2e6e49f0",
   "metadata": {},
   "outputs": [
    {
     "name": "stdout",
     "output_type": "stream",
     "text": [
      "peak memory: 358.03 MiB, increment: 0.00 MiB\n"
     ]
    }
   ],
   "source": [
    "%memit list(read_file1(filepath))"
   ]
  },
  {
   "cell_type": "code",
   "execution_count": 264,
   "id": "9b6cb72d-12c7-49b3-a593-466eea6dbd93",
   "metadata": {},
   "outputs": [
    {
     "name": "stdout",
     "output_type": "stream",
     "text": [
      "peak memory: 358.03 MiB, increment: 0.00 MiB\n"
     ]
    }
   ],
   "source": [
    "%memit list(read_file2(filepath))"
   ]
  }
 ],
 "metadata": {
  "kernelspec": {
   "display_name": "Python 3 (ipykernel)",
   "language": "python",
   "name": "python3"
  },
  "language_info": {
   "codemirror_mode": {
    "name": "ipython",
    "version": 3
   },
   "file_extension": ".py",
   "mimetype": "text/x-python",
   "name": "python",
   "nbconvert_exporter": "python",
   "pygments_lexer": "ipython3",
   "version": "3.12.4"
  }
 },
 "nbformat": 4,
 "nbformat_minor": 5
}
